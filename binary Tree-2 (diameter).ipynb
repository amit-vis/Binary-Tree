{
 "cells": [
  {
   "cell_type": "code",
   "execution_count": 18,
   "id": "e4609668",
   "metadata": {},
   "outputs": [],
   "source": [
    "class BinaryNodeTree:\n",
    "    def __init__(self,data):\n",
    "        self.data = data\n",
    "        self.right = None\n",
    "        self.left = None"
   ]
  },
  {
   "cell_type": "code",
   "execution_count": 11,
   "id": "20a2aaf1",
   "metadata": {},
   "outputs": [],
   "source": [
    "def TakeInput():\n",
    "    rootData = int(input())\n",
    "    if rootData == -1:\n",
    "        return\n",
    "    root = BinaryNodeTree(rootData)\n",
    "    leftdata = TakeInput()\n",
    "    rightdata = TakeInput()\n",
    "    root.left = leftdata\n",
    "    root.right = rightdata\n",
    "    return root"
   ]
  },
  {
   "cell_type": "code",
   "execution_count": 10,
   "id": "cff99741",
   "metadata": {},
   "outputs": [],
   "source": [
    "def rootToLeafPathsSumToK(root, k):\n",
    "\t#Your code goes here\n",
    "    if root == None:\n",
    "        return\n",
    "    pathsum = []\n",
    "    k +=root.data\n",
    "    if root.left == None and root.right == None:\n",
    "        pathsum.append(k)\n",
    "        return\n",
    "    rootToLeafPathsSumToK(root.left,k)\n",
    "    rootToLeafPathsSumToK(root.right,k)"
   ]
  },
  {
   "cell_type": "code",
   "execution_count": 12,
   "id": "ecd0c9a2",
   "metadata": {
    "scrolled": true
   },
   "outputs": [
    {
     "name": "stdout",
     "output_type": "stream",
     "text": [
      "Enter root\n",
      "2\n",
      "L 2\n",
      "2\n",
      "R 2\n",
      "2\n",
      "L 2\n",
      "2\n",
      "R 2\n",
      "2\n",
      "L 2\n",
      "2\n",
      "R 2\n",
      "2\n",
      "L 2\n",
      "-1\n",
      "R 2\n",
      "-1\n",
      "L 2\n",
      "-1\n",
      "R 2\n",
      "-1\n",
      "L 2\n",
      "-1\n",
      "R 2\n",
      "-1\n",
      "L 2\n",
      "-1\n",
      "R 2\n",
      "-1\n",
      "None\n"
     ]
    }
   ],
   "source": [
    "root=levelwiseTreeInput()\n",
    "k = 6\n",
    "rootToLeafPathsSumToK(root,k)\n",
    "print(rootToLeafPathsSumToK(root,k))"
   ]
  },
  {
   "cell_type": "code",
   "execution_count": 14,
   "id": "c97e23f0",
   "metadata": {},
   "outputs": [],
   "source": [
    "def PrintTreeDetailed(root):\n",
    "    if root == None:\n",
    "        return\n",
    "    print(root.data,end=':')\n",
    "    if root.left !=None:\n",
    "        print('L', root.left.data, end = ',')\n",
    "    if root.right !=None:\n",
    "        print('R',root.right.data, end='')\n",
    "    print()\n",
    "    PrintTreeDetailed(root.left)\n",
    "    PrintTreeDetailed(root.right)"
   ]
  },
  {
   "cell_type": "code",
   "execution_count": 16,
   "id": "48dce58a",
   "metadata": {},
   "outputs": [],
   "source": [
    "def Numleaf(root):\n",
    "    if root == None:\n",
    "        return 0\n",
    "    if root.left == None and root.right == None:\n",
    "        return 1\n",
    "    return Numleaf(root.left)+Numleaf(root.right)"
   ]
  },
  {
   "cell_type": "code",
   "execution_count": 32,
   "id": "bae02dcc",
   "metadata": {},
   "outputs": [],
   "source": [
    "def diameterOfBinaryTree1(root) :\n",
    "    if root == None:\n",
    "        return 0\n",
    "    \n",
    "    leftDiameter = diameterOfBinaryTree(root.left)\n",
    "    rightDiameter= diameterOfBinaryTree(root.right)\n",
    "    h = 1+max(leftDiameter,rightDiameter)\n",
    "    if leftDiameter>rightDiameter:\n",
    "        \n",
    "        return leftDiameter\n",
    "    elif rightDiameter>leftDiameter:\n",
    "        return rightDiameter\n",
    "    else:\n",
    "        return leftDiameter+rightDiameter+1\n",
    "   "
   ]
  },
  {
   "cell_type": "code",
   "execution_count": 11,
   "id": "05cac836",
   "metadata": {},
   "outputs": [],
   "source": [
    "def height(root,ans):\n",
    "    if root == None:\n",
    "        return 0\n",
    "    left = height(root.left,ans)\n",
    "    right = height(root.right,ans)\n",
    "    ans[0] = max(ans[0],1+left+right)\n",
    "    return 1 + max(left,right)\n",
    "def diameter(root):\n",
    "    if root==None:\n",
    "        return 0\n",
    "    ans = [-99999999999]\n",
    "    height_of_tree = height(root,ans)\n",
    "    return ans[0]"
   ]
  },
  {
   "cell_type": "code",
   "execution_count": 12,
   "id": "03914aa4",
   "metadata": {
    "scrolled": false
   },
   "outputs": [
    {
     "name": "stdout",
     "output_type": "stream",
     "text": [
      "8\n",
      "9\n",
      "4\n",
      "5\n",
      "6\n",
      "-1\n",
      "-1\n",
      "-1\n",
      "-1\n",
      "-1\n",
      "8\n",
      "5\n",
      "-1\n",
      "-1\n",
      "-1\n",
      "7\n"
     ]
    }
   ],
   "source": [
    " root = TakeInput()\n",
    "print(diameter(root))"
   ]
  },
  {
   "cell_type": "code",
   "execution_count": 11,
   "id": "d76fadcc",
   "metadata": {},
   "outputs": [],
   "source": [
    "#Input for levelwise\n",
    "import queue\n",
    "def levelwiseTreeInput():\n",
    "    q = queue.Queue()\n",
    "    print('Enter root')\n",
    "    rootData = int(input())\n",
    "    if rootData == -1:\n",
    "        return None\n",
    "    root = BinaryNodeTree(rootData)\n",
    "    q.put(root)\n",
    "    while (not(q.empty())):\n",
    "        current_node = q.get()\n",
    "        print('L',current_node.data)\n",
    "        leftChildData = int(input())\n",
    "        if leftChildData !=-1:\n",
    "            leftChild = BinaryNodeTree(leftChildData)\n",
    "            current_node.left = leftChild\n",
    "            q.put(leftChild)\n",
    "        print('R',current_node.data)\n",
    "        rightChildData = int(input())\n",
    "        if rightChildData !=-1:\n",
    "            rightChild = BinaryNodeTree(rightChildData)\n",
    "            current_node.right = rightChild\n",
    "            q.put(rightChild)\n",
    "    return root"
   ]
  },
  {
   "cell_type": "code",
   "execution_count": 5,
   "id": "32fcca8b",
   "metadata": {},
   "outputs": [],
   "source": [
    "def printlevelwise(root):\n",
    "    if root == None:\n",
    "        return\n",
    "    q1 = queue.Queue()\n",
    "    q1.put(root)\n",
    "    while (not(q1.empty())):\n",
    "        current_node = q1.get\n",
    "        print(current_node.data,end=':')\n",
    "        if current_node.left != None:\n",
    "            print('L:',end='')\n",
    "            print(current_node.left.data,end='')\n",
    "            q1.put(current_node.left)\n",
    "        else:\n",
    "            print('L:-1',end='')\n",
    "        if current_node.right != None:\n",
    "            print('R:',end='')\n",
    "            print(current_node.right.data,end='')\n",
    "            q1.put(current_node.right)\n",
    "        else:\n",
    "            print('R:-1',end='')\n",
    "        print()"
   ]
  },
  {
   "cell_type": "code",
   "execution_count": 6,
   "id": "20aad4b6",
   "metadata": {
    "scrolled": true
   },
   "outputs": [
    {
     "ename": "NameError",
     "evalue": "name 'root' is not defined",
     "output_type": "error",
     "traceback": [
      "\u001b[1;31m---------------------------------------------------------------------------\u001b[0m",
      "\u001b[1;31mNameError\u001b[0m                                 Traceback (most recent call last)",
      "Input \u001b[1;32mIn [6]\u001b[0m, in \u001b[0;36m<cell line: 1>\u001b[1;34m()\u001b[0m\n\u001b[1;32m----> 1\u001b[0m printlevelwise(\u001b[43mroot\u001b[49m)\n",
      "\u001b[1;31mNameError\u001b[0m: name 'root' is not defined"
     ]
    }
   ],
   "source": [
    "printlevelwise(root)"
   ]
  },
  {
   "cell_type": "code",
   "execution_count": 19,
   "id": "24ddcfc4",
   "metadata": {},
   "outputs": [],
   "source": [
    "\n",
    "def nodesAtDistanceK(root, node, k) :\n",
    "\t#Your code goes here\n",
    "    if root == None:\n",
    "        return -1\n",
    "    if root == node:\n",
    "        nodesAtDistanceKdown(root,k)\n",
    "        return 0\n",
    "    dl = nodesAtDistanceK(root.left,node,k)\n",
    "    if dl != -1:\n",
    "        if dl+1==k:\n",
    "            print(root.data)\n",
    "        else:\n",
    "            nodesAtDistanceKdown(root.right,k-dl-2)\n",
    "        return 1+dl\n",
    "    dr = nodesAtDistanceK(root.right,node,k)\n",
    "    if dr != -1:\n",
    "        if dr+1 == k:\n",
    "            print(root.data)\n",
    "        else:\n",
    "            nodesAtDistanceKdown(root.left,k-dr-2)\n",
    "        return 1+dr\n",
    "    return -1\n",
    "        \n",
    "        \n",
    "def nodesAtDistanceKdown(root,k):\n",
    "    if root == None or k<0:\n",
    "        return\n",
    "    if k==0:\n",
    "        print(root.data)\n",
    "        return\n",
    "    nodesAtDistanceKdown(root.left,k-1)\n",
    "    nodesAtDistanceKdown(root.right,k-1)"
   ]
  },
  {
   "cell_type": "code",
   "execution_count": 20,
   "id": "05a7d9ae",
   "metadata": {
    "scrolled": true
   },
   "outputs": [
    {
     "name": "stdout",
     "output_type": "stream",
     "text": [
      "2\n",
      "5\n"
     ]
    },
    {
     "data": {
      "text/plain": [
       "2"
      ]
     },
     "execution_count": 20,
     "metadata": {},
     "output_type": "execute_result"
    }
   ],
   "source": [
    "root = BinaryNodeTree(5)\n",
    "root.left = BinaryNodeTree(6)\n",
    "root.right = BinaryNodeTree(10)\n",
    "root.left.left = BinaryNodeTree(2)\n",
    "root.left.right = BinaryNodeTree(3)\n",
    "root.left.right.left = BinaryNodeTree(9)\n",
    "node = root.left.right\n",
    "nodesAtDistanceK(root, node, 2)"
   ]
  }
 ],
 "metadata": {
  "kernelspec": {
   "display_name": "Python 3 (ipykernel)",
   "language": "python",
   "name": "python3"
  },
  "language_info": {
   "codemirror_mode": {
    "name": "ipython",
    "version": 3
   },
   "file_extension": ".py",
   "mimetype": "text/x-python",
   "name": "python",
   "nbconvert_exporter": "python",
   "pygments_lexer": "ipython3",
   "version": "3.9.12"
  }
 },
 "nbformat": 4,
 "nbformat_minor": 5
}
